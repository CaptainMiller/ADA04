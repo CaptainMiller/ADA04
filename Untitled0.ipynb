{
  "nbformat": 4,
  "nbformat_minor": 0,
  "metadata": {
    "colab": {
      "provenance": []
    },
    "kernelspec": {
      "name": "python3",
      "display_name": "Python 3"
    },
    "language_info": {
      "name": "python"
    }
  },
  "cells": [
    {
      "cell_type": "code",
      "execution_count": 5,
      "metadata": {
        "colab": {
          "base_uri": "https://localhost:8080/"
        },
        "id": "Oo8gph3H9s-R",
        "outputId": "35a2062a-1631-4f1e-b4d3-4f8b1939c8ee"
      },
      "outputs": [
        {
          "output_type": "stream",
          "name": "stdout",
          "text": [
            "Accuracy: 100.00%\n",
            "Predicted Credit Score Class for a score of 680: Standard\n"
          ]
        },
        {
          "output_type": "stream",
          "name": "stderr",
          "text": [
            "/usr/local/lib/python3.10/dist-packages/sklearn/base.py:439: UserWarning: X does not have valid feature names, but RandomForestClassifier was fitted with feature names\n",
            "  warnings.warn(\n"
          ]
        }
      ],
      "source": [
        "import pandas as pd\n",
        "from sklearn.model_selection import train_test_split\n",
        "from sklearn.ensemble import RandomForestClassifier\n",
        "from sklearn.metrics import accuracy_score\n",
        "\n",
        "# Generating a sample dataset\n",
        "data = {\n",
        "    'Credit_Score': [800, 650, 720, 550, 680, 750, 600, 700, 670, 500],\n",
        "    'Label': ['Good', 'Standard', 'Good', 'Poor', 'Standard', 'Good', 'Poor', 'Good', 'Standard', 'Poor']\n",
        "}\n",
        "\n",
        "df = pd.DataFrame(data)\n",
        "\n",
        "# Convert labels to numerical values\n",
        "label_mapping = {'Good': 0, 'Standard': 1, 'Poor': 2}\n",
        "df['Label'] = df['Label'].map(label_mapping)\n",
        "\n",
        "# Split the dataset into features (X) and labels (y)\n",
        "X = df[['Credit_Score']]\n",
        "y = df['Label']\n",
        "\n",
        "# Split the data into training and testing sets\n",
        "X_train, X_test, y_train, y_test = train_test_split(X, y, test_size=0.2, random_state=42)\n",
        "\n",
        "# Train a Random Forest Classifier\n",
        "clf = RandomForestClassifier(n_estimators=100, random_state=42)\n",
        "clf.fit(X_train, y_train)\n",
        "\n",
        "# Make predictions on the test set\n",
        "y_pred = clf.predict(X_test)\n",
        "\n",
        "# Evaluate the accuracy of the model\n",
        "accuracy = accuracy_score(y_test, y_pred)\n",
        "print(f\"Accuracy: {accuracy * 100:.2f}%\")\n",
        "\n",
        "# Now you can use the trained model to predict the credit score for a new customer\n",
        "new_customer_score = 680\n",
        "predicted_label = clf.predict([[new_customer_score]])\n",
        "predicted_class = list(label_mapping.keys())[predicted_label[0]]\n",
        "print(f\"Predicted Credit Score Class for a score of {new_customer_score}: {predicted_class}\")"
      ]
    },
    {
      "cell_type": "code",
      "source": [],
      "metadata": {
        "id": "ywvNnTSPAiyJ"
      },
      "execution_count": null,
      "outputs": []
    }
  ]
}